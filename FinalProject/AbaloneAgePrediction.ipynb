{
 "cells": [
  {
   "cell_type": "code",
   "execution_count": null,
   "id": "e7aa9fd5",
   "metadata": {},
   "outputs": [],
   "source": [
    "import pandas as pd\n",
    "import matplotlib.pyplot as plt"
   ]
  },
  {
   "cell_type": "code",
   "execution_count": null,
   "id": "9391a834",
   "metadata": {},
   "outputs": [],
   "source": [
    "data_folder = r\"Downloads\\ML/\""
   ]
  },
  {
   "cell_type": "code",
   "execution_count": null,
   "id": "732bb603",
   "metadata": {},
   "outputs": [],
   "source": [
    "abalone = pd.read_csv(data_folder+\"abalone/abalone.csv\")\n",
    "abalone.describe()"
   ]
  },
  {
   "cell_type": "code",
   "execution_count": null,
   "id": "500ee4d4",
   "metadata": {},
   "outputs": [],
   "source": [
    "abalone.columns"
   ]
  },
  {
   "cell_type": "code",
   "execution_count": null,
   "id": "4e9c7f1c",
   "metadata": {},
   "outputs": [],
   "source": [
    "abalone = abalone.apply(lambda x: x**(1/3) if x.name in [\"Length\",\"Diameter\",\"Whole_weight\",\"Shucked_weight\",\"Viscera_weight\",\"Shell_weight\"] else x)\n",
    "abalone.describe()"
   ]
  },
  {
   "cell_type": "code",
   "execution_count": null,
   "id": "acf1e49a",
   "metadata": {},
   "outputs": [],
   "source": [
    "abalone = pd.get_dummies(abalone,columns=[\"Sex\"])\n",
    "#abalone.head()\n",
    "#abalone.loc[:,'Volume'] = abalone['Length'].values*abalone['Diameter'].values*abalone['Height'].values"
   ]
  },
  {
   "cell_type": "code",
   "execution_count": null,
   "id": "d9dbb3d4",
   "metadata": {},
   "outputs": [],
   "source": [
    "x_abalone = abalone.drop([\"Rings\"],axis=1)#\"Length\",\"Diameter\",\"Height\",\n",
    "y_abalone = abalone.loc[:,\"Rings\"]"
   ]
  },
  {
   "cell_type": "code",
   "execution_count": null,
   "id": "9aa51e03",
   "metadata": {},
   "outputs": [],
   "source": [
    "'''from sklearn.decomposition import PCA\n",
    "pca = PCA(n_components=5)\n",
    "pca.fit(x_abalone)\n",
    "x_abalone = pd.DataFrame(pca.transform(x_abalone))'''"
   ]
  },
  {
   "cell_type": "code",
   "execution_count": null,
   "id": "028c6535",
   "metadata": {},
   "outputs": [],
   "source": [
    "#highly imbalanced dataset\n",
    "#CountStatus = pd.value_counts(y_abalone, sort=True)\n",
    "#print(CountStatus)\n",
    "#CountStatus.plot.barh()"
   ]
  },
  {
   "cell_type": "code",
   "execution_count": null,
   "id": "ba5eddeb",
   "metadata": {},
   "outputs": [],
   "source": [
    "x_abalone.hist(bins=30,xlabelsize=0)#skewed data"
   ]
  },
  {
   "cell_type": "code",
   "execution_count": null,
   "id": "01cf25ad",
   "metadata": {},
   "outputs": [],
   "source": [
    "#x_abalone.boxplot(rot=90)#no outliers"
   ]
  },
  {
   "cell_type": "code",
   "execution_count": null,
   "id": "1d0e4b39",
   "metadata": {},
   "outputs": [],
   "source": [
    "'''sm = pd.plotting.scatter_matrix(abalone, alpha=0.2, figsize=(6, 6), diagonal='kde')\n",
    "\n",
    "#Change label rotation\n",
    "[s.xaxis.label.set_rotation(45) for s in sm.reshape(-1)]\n",
    "[s.yaxis.label.set_rotation(0) for s in sm.reshape(-1)]\n",
    "\n",
    "#May need to offset label when rotating to prevent overlap of figure\n",
    "[s.get_yaxis().set_label_coords(-0.3,0.5) for s in sm.reshape(-1)]\n",
    "\n",
    "#Hide all ticks\n",
    "[s.set_xticks(()) for s in sm.reshape(-1)]\n",
    "[s.set_yticks(()) for s in sm.reshape(-1)]\n",
    "\n",
    "plt.show()'''"
   ]
  },
  {
   "cell_type": "code",
   "execution_count": null,
   "id": "2b1af978",
   "metadata": {},
   "outputs": [],
   "source": [
    "'''f = plt.figure(figsize=(19, 15))\n",
    "plt.matshow(abalone.corr(), fignum=f.number)\n",
    "plt.xticks(range(abalone.select_dtypes(['number']).shape[1]), abalone.select_dtypes(['number']).columns, fontsize=14, rotation=45)\n",
    "plt.yticks(range(abalone.select_dtypes(['number']).shape[1]), abalone.select_dtypes(['number']).columns, fontsize=14)\n",
    "cb = plt.colorbar()\n",
    "cb.ax.tick_params(labelsize=14)\n",
    "plt.title('Correlation Matrix', fontsize=16)'''"
   ]
  },
  {
   "cell_type": "code",
   "execution_count": null,
   "id": "8f7349c5",
   "metadata": {
    "scrolled": true
   },
   "outputs": [],
   "source": [
    "abalone.corr() #correlation matrix\n",
    "#abalone.cov() #covarience matrix"
   ]
  },
  {
   "cell_type": "code",
   "execution_count": null,
   "id": "600e704b",
   "metadata": {},
   "outputs": [],
   "source": [
    "from sklearn.metrics import confusion_matrix, classification_report, plot_confusion_matrix\n",
    "from sklearn.model_selection import train_test_split\n",
    "from sklearn.metrics import accuracy_score"
   ]
  },
  {
   "cell_type": "code",
   "execution_count": null,
   "id": "278ddcc3",
   "metadata": {},
   "outputs": [],
   "source": [
    "from imblearn.over_sampling import RandomOverSampler,SMOTE,SMOTENC,ADASYN,BorderlineSMOTE,KMeansSMOTE,SVMSMOTE\n",
    "\n",
    "sm = SMOTE(random_state = 2)\n",
    "abalone_subset = abalone.groupby('Rings').filter(lambda x : len(x)>5)\n",
    "abalone_subset = pd.get_dummies(abalone_subset,columns=[\"Sex\"])\n",
    "x_abalone_sub = abalone_subset.drop([\"Length\",\"Diameter\",\"Height\",\"Rings\"],axis=1)\n",
    "y_abalone_sub = abalone_subset.loc[:,\"Rings\"]\n",
    "x_abalone_bal, y_abalone_bal = sm.fit_resample(x_abalone_sub, y_abalone_sub.ravel())"
   ]
  },
  {
   "cell_type": "code",
   "execution_count": null,
   "id": "0287a6d9",
   "metadata": {},
   "outputs": [],
   "source": [
    "from sklearn.preprocessing import MinMaxScaler\n",
    "scaler = MinMaxScaler()\n",
    "x_abalone_bal = scaler.fit_transform(x_abalone_bal)"
   ]
  },
  {
   "cell_type": "code",
   "execution_count": null,
   "id": "2d58f697",
   "metadata": {},
   "outputs": [],
   "source": [
    "#try doing pca to find any meaningful features and remove redundancy\n",
    "#pca = PCA(n_components=5)\n",
    "#pca.fit(x_abalone_bal)\n",
    "#x_abalone_bal = pd.DataFrame(pca.transform(x_abalone_bal))\n",
    "#x_abalone_bal.head()\n",
    "#var1=np.cumsum(np.round(pca.explained_variance_ratio_, decimals=4)*100)\n",
    "\n",
    "#print(var1)"
   ]
  },
  {
   "cell_type": "code",
   "execution_count": null,
   "id": "87fc83ab",
   "metadata": {},
   "outputs": [],
   "source": [
    "#import matplotlib.pyplot as plt\n",
    "#plot principle components to visualize any chance of seperation among the classes\n",
    "#plt.scatter(x_abalone_bal[0],x_abalone_bal[1],c=y_abalone_bal)"
   ]
  },
  {
   "cell_type": "code",
   "execution_count": null,
   "id": "b47a8485",
   "metadata": {},
   "outputs": [],
   "source": [
    "CountStatus = pd.value_counts(y_abalone_bal, sort=True)\n",
    "#print(CountStatus)\n",
    "CountStatus.plot.barh()"
   ]
  },
  {
   "cell_type": "code",
   "execution_count": null,
   "id": "14aa5c73",
   "metadata": {},
   "outputs": [],
   "source": [
    "x_train, x_test, y_train, y_test = train_test_split(x_abalone, y_abalone, test_size = 0.33, random_state = 0)"
   ]
  },
  {
   "cell_type": "code",
   "execution_count": null,
   "id": "f80f8aea",
   "metadata": {},
   "outputs": [],
   "source": [
    "from sklearn.linear_model import LinearRegression\n",
    "from sklearn.svm import SVR\n",
    "from sklearn.gaussian_process import GaussianProcessRegressor\n",
    "from sklearn.gaussian_process.kernels import DotProduct\n",
    "\n",
    "def regression(X_train,Y_train,X_test,Y_test):\n",
    "    \n",
    "    lr = LinearRegression()\n",
    "    lr.fit(X_train,Y_train)\n",
    "    y_train_lr_pred = np.rint(lr.predict(X_train))\n",
    "    y_test_lr_pred = np.rint(lr.predict(X_test))\n",
    "    print(\"Train and Test accuracy with LR: \",accuracy_score(y_train_lr_pred,Y_train),accuracy_score(y_test_lr_pred,Y_test))\n",
    "    \n",
    "    svr = SVR(kernel = 'rbf')\n",
    "    svr.fit(X_train, Y_train)\n",
    "    y_train_svr_pred = np.rint(svr.predict(X_train))\n",
    "    y_test_svr_pred = np.rint(svr.predict(X_test))\n",
    "    print(\"Train and Test accuracy with SVR: \",accuracy_score(y_train_svr_pred,Y_train),accuracy_score(y_test_svr_pred,Y_test))\n",
    "    \n",
    "    kernel = DotProduct()# + WhiteKernel()\n",
    "    #kernel = 1.0 * RBF(1.0)\n",
    "    gpr = GaussianProcessRegressor(kernel=kernel,\n",
    "             random_state=0).fit(X_train, Y_train)\n",
    "    y_train_gpr_pred = np.rint(gpr.predict(X_train))\n",
    "    y_test_gpr_pred = np.rint(gpr.predict(X_test))\n",
    "    print(\"Train and Test accuracy with GPR: \",accuracy_score(y_train_gpr_pred,Y_train),accuracy_score(y_test_gpr_pred,Y_test))"
   ]
  },
  {
   "cell_type": "code",
   "execution_count": null,
   "id": "f9de9c1e",
   "metadata": {},
   "outputs": [],
   "source": [
    "from sklearn.discriminant_analysis import LinearDiscriminantAnalysis\n",
    "from sklearn.neural_network import MLPClassifier\n",
    "from sklearn.neighbors import KNeighborsClassifier\n",
    "from sklearn.svm import SVC, LinearSVC\n",
    "from sklearn.naive_bayes import ComplementNB\n",
    "from sklearn.tree import DecisionTreeClassifier\n",
    "from sklearn.ensemble import RandomForestClassifier\n",
    "\n",
    "def classify(X_train,Y_train,X_test,Y_test):\n",
    "    \n",
    "    clf_LDA = LinearDiscriminantAnalysis()\n",
    "    clf_LDA.fit(X_train, Y_train) \n",
    "    print(\"Train and Test accuracy with LDA: \", clf_LDA.score(X_train,Y_train),clf_LDA.score(X_test,Y_test))\n",
    "    \n",
    "    clf_ANN = MLPClassifier(solver='adam', alpha=1e-5,hidden_layer_sizes=(5, 2), random_state=1,max_iter=2000)\n",
    "    clf_ANN.fit(X_train, Y_train)\n",
    "    print(\"Train and Test accuracy with ANN: \", clf_ANN.score(X_train,Y_train),clf_ANN.score(X_test,Y_test))\n",
    "    \n",
    "    clf_KNN = KNeighborsClassifier(n_neighbors=3)\n",
    "    clf_KNN.fit(X_train, Y_train) \n",
    "    print(\"Train and Test accuracy with KNN k=3: \", clf_KNN.score(X_train, Y_train),clf_KNN.score(X_test,Y_test))\n",
    "    \n",
    "    clf_SVC = LinearSVC(max_iter=2000)\n",
    "    clf_SVC.fit(X_train, Y_train)\n",
    "    print(\"Train and Test accuracy with SVC: \", clf_SVC.score(X_train, Y_train),clf_SVC.score(X_test,Y_test))\n",
    "    \n",
    "    clf_CNB = ComplementNB()\n",
    "    clf_CNB.fit(X_train, Y_train)\n",
    "    print(\"Train and Test accuracy with Complement Naive Bayes: \", clf_CNB.score(X_train, Y_train),clf_CNB.score(X_test,Y_test))\n",
    "    \n",
    "    clf_DT = DecisionTreeClassifier(random_state=0,max_depth=3)\n",
    "    clf_DT.fit(X_train, Y_train)\n",
    "    print(\"Train and Test accuracy with Decision Tree Classifier: \", clf_DT.score(X_train, Y_train),clf_DT.score(X_test,Y_test))\n",
    "    \n",
    "    clf_RF = RandomForestClassifier(n_estimators=10random_state=0)\n",
    "    clf_RF.fit(X_train, Y_train)\n",
    "    print(\"Train and Test accuracy with Random Forest Classifier: \", clf_RF.score(X_train, Y_train),clf_RF.score(X_test,Y_test))"
   ]
  },
  {
   "cell_type": "code",
   "execution_count": null,
   "id": "26211780",
   "metadata": {},
   "outputs": [],
   "source": [
    "from sklearn.ensemble import AdaBoostClassifier\n",
    "from sklearn.ensemble import GradientBoostingClassifier\n",
    "from sklearn.ensemble import HistGradientBoostingClassifier\n",
    "from sklearn.ensemble import VotingClassifier\n",
    "from sklearn.ensemble import StackingClassifier\n",
    "from sklearn.linear_model import LogisticRegression\n",
    "\n",
    "def ensemble(X_train,Y_train,X_test,Y_test):\n",
    "    \n",
    "    clf_ADA = AdaBoostClassifier()\n",
    "    clf_ADA.fit(X_train, Y_train)\n",
    "    print(\"Train and Test accuracy with AdaBoost Classifier: \", clf_ADA.score(X_train, Y_train),clf_ADA.score(X_test,Y_test))\n",
    "    \n",
    "    clf_GBC = GradientBoostingClassifier()\n",
    "    clf_GBC.fit(X_train, Y_train)\n",
    "    print(\"Train and Test accuracy with GradientBoosting Classifier: \", clf_GBC.score(X_train, Y_train),clf_GBC.score(X_test,Y_test))\n",
    "    \n",
    "    clf_HGBC = HistGradientBoostingClassifier()\n",
    "    clf_HGBC.fit(X_train, Y_train)\n",
    "    print(\"Train and Test accuracy with HistGradientBoosting Classifier: \", clf_HGBC.score(X_train, Y_train),clf_HGBC.score(X_test,Y_test))\n",
    "    \n",
    "    clf1 = RandomForestClassifier(random_state=0)\n",
    "    clf2 = KNeighborsClassifier(n_neighbors=2)\n",
    "    clf3 = SVC(kernel='rbf', probability=True)\n",
    "    eclf = VotingClassifier(estimators=[('rf', clf1), ('knn', clf2), ('svc', clf3)],\n",
    "                            voting='soft', weights=[2, 2, 1])\n",
    "    eclf.fit(X_train, Y_train)\n",
    "    print(\"Train and Test accuracy with Voting Classifier(RF,2NN,SVC): \", eclf.score(X_train, Y_train),eclf.score(X_test,Y_test))\n",
    "    \n",
    "    estimators = [\n",
    "    ('knn', KNeighborsClassifier(n_neighbors=2)),\n",
    "     ('rf', RandomForestClassifier(random_state=0))\n",
    "      ] #using only 2 of best models so far\n",
    "    clf_SC = StackingClassifier(\n",
    "        estimators=estimators, final_estimator=LogisticRegression() )\n",
    "    clf_SC.fit(X_train, Y_train)\n",
    "    acc_SC = clf_SC.score(X_test,Y_test)\n",
    "    print(\"Train and Test accuracy with Stacking Classifier(2NN,RF): \", clf_SC.score(X_train, Y_train),clf_SC.score(X_test,Y_test))"
   ]
  },
  {
   "cell_type": "code",
   "execution_count": null,
   "id": "c979b811",
   "metadata": {},
   "outputs": [],
   "source": [
    "import warnings\n",
    "warnings.filterwarnings('ignore')"
   ]
  },
  {
   "cell_type": "code",
   "execution_count": null,
   "id": "64be6cf1",
   "metadata": {},
   "outputs": [],
   "source": [
    "regression(x_train,y_train,x_test,y_test)"
   ]
  },
  {
   "cell_type": "code",
   "execution_count": null,
   "id": "596672c1",
   "metadata": {},
   "outputs": [],
   "source": [
    "classify(x_train,y_train,x_test,y_test)"
   ]
  },
  {
   "cell_type": "code",
   "execution_count": null,
   "id": "5a788aac",
   "metadata": {},
   "outputs": [],
   "source": [
    "ensemble(x_train,y_train,x_test,y_test)"
   ]
  },
  {
   "cell_type": "code",
   "execution_count": null,
   "id": "dec7614a",
   "metadata": {},
   "outputs": [],
   "source": []
  },
  {
   "cell_type": "code",
   "execution_count": null,
   "id": "190ba932",
   "metadata": {},
   "outputs": [],
   "source": []
  }
 ],
 "metadata": {
  "kernelspec": {
   "display_name": "Python 3 (ipykernel)",
   "language": "python",
   "name": "python3"
  },
  "language_info": {
   "codemirror_mode": {
    "name": "ipython",
    "version": 3
   },
   "file_extension": ".py",
   "mimetype": "text/x-python",
   "name": "python",
   "nbconvert_exporter": "python",
   "pygments_lexer": "ipython3",
   "version": "3.10.7"
  }
 },
 "nbformat": 4,
 "nbformat_minor": 5
}
