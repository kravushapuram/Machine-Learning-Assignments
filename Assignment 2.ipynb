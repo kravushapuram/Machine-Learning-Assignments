{
 "cells": [
  {
   "cell_type": "markdown",
   "id": "64f475d5",
   "metadata": {},
   "source": [
    "# 1.1, 1.2"
   ]
  },
  {
   "cell_type": "code",
   "execution_count": 2,
   "id": "47611909",
   "metadata": {},
   "outputs": [
    {
     "name": "stdout",
     "output_type": "stream",
     "text": [
      "[[19 18  9  5 13]\n",
      " [12  5 13 14 13]\n",
      " [15  7 11  4 13]]\n"
     ]
    }
   ],
   "source": [
    "import numpy as np\n",
    "arr_init=np.random.randint(1, high=20, size=15)\n",
    "arr_reshaped= arr_init.reshape((3,5))\n",
    "print(arr_reshaped)\n"
   ]
  },
  {
   "cell_type": "markdown",
   "id": "48e9b3f1",
   "metadata": {},
   "source": [
    "# 1.3"
   ]
  },
  {
   "cell_type": "code",
   "execution_count": 3,
   "id": "c16ebfe1",
   "metadata": {},
   "outputs": [
    {
     "name": "stdout",
     "output_type": "stream",
     "text": [
      "[[ 0 18  9  5 13]\n",
      " [12  5 13  0 13]\n",
      " [ 0  7 11  4 13]]\n"
     ]
    }
   ],
   "source": [
    "arr_reshaped[np.isin(arr_reshaped, np.max(arr_reshaped, axis=1))]=0\n",
    "print(arr_reshaped)"
   ]
  },
  {
   "cell_type": "markdown",
   "id": "e8e846bd",
   "metadata": {},
   "source": [
    "# 2.1"
   ]
  },
  {
   "cell_type": "code",
   "execution_count": 4,
   "id": "f2a23584",
   "metadata": {},
   "outputs": [
    {
     "data": {
      "text/html": [
       "<div>\n",
       "<style scoped>\n",
       "    .dataframe tbody tr th:only-of-type {\n",
       "        vertical-align: middle;\n",
       "    }\n",
       "\n",
       "    .dataframe tbody tr th {\n",
       "        vertical-align: top;\n",
       "    }\n",
       "\n",
       "    .dataframe thead th {\n",
       "        text-align: right;\n",
       "    }\n",
       "</style>\n",
       "<table border=\"1\" class=\"dataframe\">\n",
       "  <thead>\n",
       "    <tr style=\"text-align: right;\">\n",
       "      <th></th>\n",
       "      <th>Duration</th>\n",
       "      <th>Pulse</th>\n",
       "      <th>Maxpulse</th>\n",
       "      <th>Calories</th>\n",
       "    </tr>\n",
       "  </thead>\n",
       "  <tbody>\n",
       "    <tr>\n",
       "      <th>0</th>\n",
       "      <td>60</td>\n",
       "      <td>110</td>\n",
       "      <td>130</td>\n",
       "      <td>409.1</td>\n",
       "    </tr>\n",
       "    <tr>\n",
       "      <th>1</th>\n",
       "      <td>60</td>\n",
       "      <td>117</td>\n",
       "      <td>145</td>\n",
       "      <td>479.0</td>\n",
       "    </tr>\n",
       "    <tr>\n",
       "      <th>2</th>\n",
       "      <td>60</td>\n",
       "      <td>103</td>\n",
       "      <td>135</td>\n",
       "      <td>340.0</td>\n",
       "    </tr>\n",
       "    <tr>\n",
       "      <th>3</th>\n",
       "      <td>45</td>\n",
       "      <td>109</td>\n",
       "      <td>175</td>\n",
       "      <td>282.4</td>\n",
       "    </tr>\n",
       "    <tr>\n",
       "      <th>4</th>\n",
       "      <td>45</td>\n",
       "      <td>117</td>\n",
       "      <td>148</td>\n",
       "      <td>406.0</td>\n",
       "    </tr>\n",
       "  </tbody>\n",
       "</table>\n",
       "</div>"
      ],
      "text/plain": [
       "   Duration  Pulse  Maxpulse  Calories\n",
       "0        60    110       130     409.1\n",
       "1        60    117       145     479.0\n",
       "2        60    103       135     340.0\n",
       "3        45    109       175     282.4\n",
       "4        45    117       148     406.0"
      ]
     },
     "execution_count": 4,
     "metadata": {},
     "output_type": "execute_result"
    }
   ],
   "source": [
    "import pandas as pd\n",
    "data_dpmc = pd.read_csv(\"data.csv\")\n",
    "data_dpmc.head()"
   ]
  },
  {
   "cell_type": "markdown",
   "id": "9007911c",
   "metadata": {},
   "source": [
    "# 2.2"
   ]
  },
  {
   "cell_type": "code",
   "execution_count": 5,
   "id": "b6bba862",
   "metadata": {},
   "outputs": [
    {
     "data": {
      "text/html": [
       "<div>\n",
       "<style scoped>\n",
       "    .dataframe tbody tr th:only-of-type {\n",
       "        vertical-align: middle;\n",
       "    }\n",
       "\n",
       "    .dataframe tbody tr th {\n",
       "        vertical-align: top;\n",
       "    }\n",
       "\n",
       "    .dataframe thead th {\n",
       "        text-align: right;\n",
       "    }\n",
       "</style>\n",
       "<table border=\"1\" class=\"dataframe\">\n",
       "  <thead>\n",
       "    <tr style=\"text-align: right;\">\n",
       "      <th></th>\n",
       "      <th>Duration</th>\n",
       "      <th>Pulse</th>\n",
       "      <th>Maxpulse</th>\n",
       "      <th>Calories</th>\n",
       "    </tr>\n",
       "  </thead>\n",
       "  <tbody>\n",
       "    <tr>\n",
       "      <th>count</th>\n",
       "      <td>169.000000</td>\n",
       "      <td>169.000000</td>\n",
       "      <td>169.000000</td>\n",
       "      <td>164.000000</td>\n",
       "    </tr>\n",
       "    <tr>\n",
       "      <th>mean</th>\n",
       "      <td>63.846154</td>\n",
       "      <td>107.461538</td>\n",
       "      <td>134.047337</td>\n",
       "      <td>375.790244</td>\n",
       "    </tr>\n",
       "    <tr>\n",
       "      <th>std</th>\n",
       "      <td>42.299949</td>\n",
       "      <td>14.510259</td>\n",
       "      <td>16.450434</td>\n",
       "      <td>266.379919</td>\n",
       "    </tr>\n",
       "    <tr>\n",
       "      <th>min</th>\n",
       "      <td>15.000000</td>\n",
       "      <td>80.000000</td>\n",
       "      <td>100.000000</td>\n",
       "      <td>50.300000</td>\n",
       "    </tr>\n",
       "    <tr>\n",
       "      <th>25%</th>\n",
       "      <td>45.000000</td>\n",
       "      <td>100.000000</td>\n",
       "      <td>124.000000</td>\n",
       "      <td>250.925000</td>\n",
       "    </tr>\n",
       "    <tr>\n",
       "      <th>50%</th>\n",
       "      <td>60.000000</td>\n",
       "      <td>105.000000</td>\n",
       "      <td>131.000000</td>\n",
       "      <td>318.600000</td>\n",
       "    </tr>\n",
       "    <tr>\n",
       "      <th>75%</th>\n",
       "      <td>60.000000</td>\n",
       "      <td>111.000000</td>\n",
       "      <td>141.000000</td>\n",
       "      <td>387.600000</td>\n",
       "    </tr>\n",
       "    <tr>\n",
       "      <th>max</th>\n",
       "      <td>300.000000</td>\n",
       "      <td>159.000000</td>\n",
       "      <td>184.000000</td>\n",
       "      <td>1860.400000</td>\n",
       "    </tr>\n",
       "  </tbody>\n",
       "</table>\n",
       "</div>"
      ],
      "text/plain": [
       "         Duration       Pulse    Maxpulse     Calories\n",
       "count  169.000000  169.000000  169.000000   164.000000\n",
       "mean    63.846154  107.461538  134.047337   375.790244\n",
       "std     42.299949   14.510259   16.450434   266.379919\n",
       "min     15.000000   80.000000  100.000000    50.300000\n",
       "25%     45.000000  100.000000  124.000000   250.925000\n",
       "50%     60.000000  105.000000  131.000000   318.600000\n",
       "75%     60.000000  111.000000  141.000000   387.600000\n",
       "max    300.000000  159.000000  184.000000  1860.400000"
      ]
     },
     "execution_count": 5,
     "metadata": {},
     "output_type": "execute_result"
    }
   ],
   "source": [
    "data_dpmc.describe()"
   ]
  },
  {
   "cell_type": "markdown",
   "id": "b0588980",
   "metadata": {},
   "source": [
    "# 2.3"
   ]
  },
  {
   "cell_type": "code",
   "execution_count": 6,
   "id": "fdc85970",
   "metadata": {},
   "outputs": [
    {
     "data": {
      "text/plain": [
       "Duration    False\n",
       "Pulse       False\n",
       "Maxpulse    False\n",
       "Calories     True\n",
       "dtype: bool"
      ]
     },
     "execution_count": 6,
     "metadata": {},
     "output_type": "execute_result"
    }
   ],
   "source": [
    "data_dpmc.isnull().any()"
   ]
  },
  {
   "cell_type": "code",
   "execution_count": 7,
   "id": "9dc6bd63",
   "metadata": {},
   "outputs": [],
   "source": [
    "data_dpmc.fillna(data_dpmc.mean(),inplace=True)"
   ]
  },
  {
   "cell_type": "code",
   "execution_count": 8,
   "id": "62e63632",
   "metadata": {},
   "outputs": [
    {
     "data": {
      "text/plain": [
       "Duration    False\n",
       "Pulse       False\n",
       "Maxpulse    False\n",
       "Calories    False\n",
       "dtype: bool"
      ]
     },
     "execution_count": 8,
     "metadata": {},
     "output_type": "execute_result"
    }
   ],
   "source": [
    "data_dpmc.isnull().any()"
   ]
  },
  {
   "cell_type": "markdown",
   "id": "ca24bb7a",
   "metadata": {},
   "source": [
    "# 2.4"
   ]
  },
  {
   "cell_type": "code",
   "execution_count": 9,
   "id": "a0523abd",
   "metadata": {},
   "outputs": [
    {
     "data": {
      "text/html": [
       "<div>\n",
       "<style scoped>\n",
       "    .dataframe tbody tr th:only-of-type {\n",
       "        vertical-align: middle;\n",
       "    }\n",
       "\n",
       "    .dataframe tbody tr th {\n",
       "        vertical-align: top;\n",
       "    }\n",
       "\n",
       "    .dataframe thead th {\n",
       "        text-align: right;\n",
       "    }\n",
       "</style>\n",
       "<table border=\"1\" class=\"dataframe\">\n",
       "  <thead>\n",
       "    <tr style=\"text-align: right;\">\n",
       "      <th></th>\n",
       "      <th>Duration</th>\n",
       "      <th>Pulse</th>\n",
       "    </tr>\n",
       "  </thead>\n",
       "  <tbody>\n",
       "    <tr>\n",
       "      <th>min</th>\n",
       "      <td>15.000000</td>\n",
       "      <td>80.000000</td>\n",
       "    </tr>\n",
       "    <tr>\n",
       "      <th>max</th>\n",
       "      <td>300.000000</td>\n",
       "      <td>159.000000</td>\n",
       "    </tr>\n",
       "    <tr>\n",
       "      <th>count</th>\n",
       "      <td>169.000000</td>\n",
       "      <td>169.000000</td>\n",
       "    </tr>\n",
       "    <tr>\n",
       "      <th>mean</th>\n",
       "      <td>63.846154</td>\n",
       "      <td>107.461538</td>\n",
       "    </tr>\n",
       "  </tbody>\n",
       "</table>\n",
       "</div>"
      ],
      "text/plain": [
       "         Duration       Pulse\n",
       "min     15.000000   80.000000\n",
       "max    300.000000  159.000000\n",
       "count  169.000000  169.000000\n",
       "mean    63.846154  107.461538"
      ]
     },
     "execution_count": 9,
     "metadata": {},
     "output_type": "execute_result"
    }
   ],
   "source": [
    "data_dpmc.agg({'Duration' : ['min', 'max', 'count', 'mean'], 'Pulse' : ['min', 'max', 'count', 'mean']})"
   ]
  },
  {
   "cell_type": "markdown",
   "id": "e7b697b8",
   "metadata": {},
   "source": [
    "# 2.5"
   ]
  },
  {
   "cell_type": "code",
   "execution_count": 10,
   "id": "7cbb272a",
   "metadata": {},
   "outputs": [
    {
     "data": {
      "text/html": [
       "<div>\n",
       "<style scoped>\n",
       "    .dataframe tbody tr th:only-of-type {\n",
       "        vertical-align: middle;\n",
       "    }\n",
       "\n",
       "    .dataframe tbody tr th {\n",
       "        vertical-align: top;\n",
       "    }\n",
       "\n",
       "    .dataframe thead th {\n",
       "        text-align: right;\n",
       "    }\n",
       "</style>\n",
       "<table border=\"1\" class=\"dataframe\">\n",
       "  <thead>\n",
       "    <tr style=\"text-align: right;\">\n",
       "      <th></th>\n",
       "      <th>Duration</th>\n",
       "      <th>Pulse</th>\n",
       "      <th>Maxpulse</th>\n",
       "      <th>Calories</th>\n",
       "    </tr>\n",
       "  </thead>\n",
       "  <tbody>\n",
       "    <tr>\n",
       "      <th>51</th>\n",
       "      <td>80</td>\n",
       "      <td>123</td>\n",
       "      <td>146</td>\n",
       "      <td>643.1</td>\n",
       "    </tr>\n",
       "    <tr>\n",
       "      <th>62</th>\n",
       "      <td>160</td>\n",
       "      <td>109</td>\n",
       "      <td>135</td>\n",
       "      <td>853.0</td>\n",
       "    </tr>\n",
       "    <tr>\n",
       "      <th>65</th>\n",
       "      <td>180</td>\n",
       "      <td>90</td>\n",
       "      <td>130</td>\n",
       "      <td>800.4</td>\n",
       "    </tr>\n",
       "    <tr>\n",
       "      <th>66</th>\n",
       "      <td>150</td>\n",
       "      <td>105</td>\n",
       "      <td>135</td>\n",
       "      <td>873.4</td>\n",
       "    </tr>\n",
       "    <tr>\n",
       "      <th>67</th>\n",
       "      <td>150</td>\n",
       "      <td>107</td>\n",
       "      <td>130</td>\n",
       "      <td>816.0</td>\n",
       "    </tr>\n",
       "    <tr>\n",
       "      <th>72</th>\n",
       "      <td>90</td>\n",
       "      <td>100</td>\n",
       "      <td>127</td>\n",
       "      <td>700.0</td>\n",
       "    </tr>\n",
       "    <tr>\n",
       "      <th>73</th>\n",
       "      <td>150</td>\n",
       "      <td>97</td>\n",
       "      <td>127</td>\n",
       "      <td>953.2</td>\n",
       "    </tr>\n",
       "    <tr>\n",
       "      <th>75</th>\n",
       "      <td>90</td>\n",
       "      <td>98</td>\n",
       "      <td>125</td>\n",
       "      <td>563.2</td>\n",
       "    </tr>\n",
       "    <tr>\n",
       "      <th>78</th>\n",
       "      <td>120</td>\n",
       "      <td>100</td>\n",
       "      <td>130</td>\n",
       "      <td>500.4</td>\n",
       "    </tr>\n",
       "    <tr>\n",
       "      <th>90</th>\n",
       "      <td>180</td>\n",
       "      <td>101</td>\n",
       "      <td>127</td>\n",
       "      <td>600.1</td>\n",
       "    </tr>\n",
       "    <tr>\n",
       "      <th>99</th>\n",
       "      <td>90</td>\n",
       "      <td>93</td>\n",
       "      <td>124</td>\n",
       "      <td>604.1</td>\n",
       "    </tr>\n",
       "    <tr>\n",
       "      <th>103</th>\n",
       "      <td>90</td>\n",
       "      <td>90</td>\n",
       "      <td>100</td>\n",
       "      <td>500.4</td>\n",
       "    </tr>\n",
       "    <tr>\n",
       "      <th>106</th>\n",
       "      <td>180</td>\n",
       "      <td>90</td>\n",
       "      <td>120</td>\n",
       "      <td>800.3</td>\n",
       "    </tr>\n",
       "    <tr>\n",
       "      <th>108</th>\n",
       "      <td>90</td>\n",
       "      <td>90</td>\n",
       "      <td>120</td>\n",
       "      <td>500.3</td>\n",
       "    </tr>\n",
       "  </tbody>\n",
       "</table>\n",
       "</div>"
      ],
      "text/plain": [
       "     Duration  Pulse  Maxpulse  Calories\n",
       "51         80    123       146     643.1\n",
       "62        160    109       135     853.0\n",
       "65        180     90       130     800.4\n",
       "66        150    105       135     873.4\n",
       "67        150    107       130     816.0\n",
       "72         90    100       127     700.0\n",
       "73        150     97       127     953.2\n",
       "75         90     98       125     563.2\n",
       "78        120    100       130     500.4\n",
       "90        180    101       127     600.1\n",
       "99         90     93       124     604.1\n",
       "103        90     90       100     500.4\n",
       "106       180     90       120     800.3\n",
       "108        90     90       120     500.3"
      ]
     },
     "execution_count": 10,
     "metadata": {},
     "output_type": "execute_result"
    }
   ],
   "source": [
    "data_dpmc.loc[(data_dpmc['Calories']>500) & (data_dpmc['Calories']<1000)]"
   ]
  },
  {
   "cell_type": "markdown",
   "id": "051a1f31",
   "metadata": {},
   "source": [
    "# 2.6"
   ]
  },
  {
   "cell_type": "code",
   "execution_count": 11,
   "id": "de78ad37",
   "metadata": {},
   "outputs": [
    {
     "data": {
      "text/html": [
       "<div>\n",
       "<style scoped>\n",
       "    .dataframe tbody tr th:only-of-type {\n",
       "        vertical-align: middle;\n",
       "    }\n",
       "\n",
       "    .dataframe tbody tr th {\n",
       "        vertical-align: top;\n",
       "    }\n",
       "\n",
       "    .dataframe thead th {\n",
       "        text-align: right;\n",
       "    }\n",
       "</style>\n",
       "<table border=\"1\" class=\"dataframe\">\n",
       "  <thead>\n",
       "    <tr style=\"text-align: right;\">\n",
       "      <th></th>\n",
       "      <th>Duration</th>\n",
       "      <th>Pulse</th>\n",
       "      <th>Maxpulse</th>\n",
       "      <th>Calories</th>\n",
       "    </tr>\n",
       "  </thead>\n",
       "  <tbody>\n",
       "    <tr>\n",
       "      <th>65</th>\n",
       "      <td>180</td>\n",
       "      <td>90</td>\n",
       "      <td>130</td>\n",
       "      <td>800.4</td>\n",
       "    </tr>\n",
       "    <tr>\n",
       "      <th>70</th>\n",
       "      <td>150</td>\n",
       "      <td>97</td>\n",
       "      <td>129</td>\n",
       "      <td>1115.0</td>\n",
       "    </tr>\n",
       "    <tr>\n",
       "      <th>73</th>\n",
       "      <td>150</td>\n",
       "      <td>97</td>\n",
       "      <td>127</td>\n",
       "      <td>953.2</td>\n",
       "    </tr>\n",
       "    <tr>\n",
       "      <th>75</th>\n",
       "      <td>90</td>\n",
       "      <td>98</td>\n",
       "      <td>125</td>\n",
       "      <td>563.2</td>\n",
       "    </tr>\n",
       "    <tr>\n",
       "      <th>99</th>\n",
       "      <td>90</td>\n",
       "      <td>93</td>\n",
       "      <td>124</td>\n",
       "      <td>604.1</td>\n",
       "    </tr>\n",
       "    <tr>\n",
       "      <th>103</th>\n",
       "      <td>90</td>\n",
       "      <td>90</td>\n",
       "      <td>100</td>\n",
       "      <td>500.4</td>\n",
       "    </tr>\n",
       "    <tr>\n",
       "      <th>106</th>\n",
       "      <td>180</td>\n",
       "      <td>90</td>\n",
       "      <td>120</td>\n",
       "      <td>800.3</td>\n",
       "    </tr>\n",
       "    <tr>\n",
       "      <th>108</th>\n",
       "      <td>90</td>\n",
       "      <td>90</td>\n",
       "      <td>120</td>\n",
       "      <td>500.3</td>\n",
       "    </tr>\n",
       "  </tbody>\n",
       "</table>\n",
       "</div>"
      ],
      "text/plain": [
       "     Duration  Pulse  Maxpulse  Calories\n",
       "65        180     90       130     800.4\n",
       "70        150     97       129    1115.0\n",
       "73        150     97       127     953.2\n",
       "75         90     98       125     563.2\n",
       "99         90     93       124     604.1\n",
       "103        90     90       100     500.4\n",
       "106       180     90       120     800.3\n",
       "108        90     90       120     500.3"
      ]
     },
     "execution_count": 11,
     "metadata": {},
     "output_type": "execute_result"
    }
   ],
   "source": [
    "data_dpmc.loc[(data_dpmc['Calories']>500) & (data_dpmc['Pulse']<100)]"
   ]
  },
  {
   "cell_type": "markdown",
   "id": "186bedbf",
   "metadata": {},
   "source": [
    "# 2.7"
   ]
  },
  {
   "cell_type": "code",
   "execution_count": 12,
   "id": "c43ebf92",
   "metadata": {},
   "outputs": [
    {
     "data": {
      "text/html": [
       "<div>\n",
       "<style scoped>\n",
       "    .dataframe tbody tr th:only-of-type {\n",
       "        vertical-align: middle;\n",
       "    }\n",
       "\n",
       "    .dataframe tbody tr th {\n",
       "        vertical-align: top;\n",
       "    }\n",
       "\n",
       "    .dataframe thead th {\n",
       "        text-align: right;\n",
       "    }\n",
       "</style>\n",
       "<table border=\"1\" class=\"dataframe\">\n",
       "  <thead>\n",
       "    <tr style=\"text-align: right;\">\n",
       "      <th></th>\n",
       "      <th>Duration</th>\n",
       "      <th>Pulse</th>\n",
       "      <th>Calories</th>\n",
       "    </tr>\n",
       "  </thead>\n",
       "  <tbody>\n",
       "    <tr>\n",
       "      <th>0</th>\n",
       "      <td>60</td>\n",
       "      <td>110</td>\n",
       "      <td>409.1</td>\n",
       "    </tr>\n",
       "    <tr>\n",
       "      <th>1</th>\n",
       "      <td>60</td>\n",
       "      <td>117</td>\n",
       "      <td>479.0</td>\n",
       "    </tr>\n",
       "    <tr>\n",
       "      <th>2</th>\n",
       "      <td>60</td>\n",
       "      <td>103</td>\n",
       "      <td>340.0</td>\n",
       "    </tr>\n",
       "    <tr>\n",
       "      <th>3</th>\n",
       "      <td>45</td>\n",
       "      <td>109</td>\n",
       "      <td>282.4</td>\n",
       "    </tr>\n",
       "    <tr>\n",
       "      <th>4</th>\n",
       "      <td>45</td>\n",
       "      <td>117</td>\n",
       "      <td>406.0</td>\n",
       "    </tr>\n",
       "  </tbody>\n",
       "</table>\n",
       "</div>"
      ],
      "text/plain": [
       "   Duration  Pulse  Calories\n",
       "0        60    110     409.1\n",
       "1        60    117     479.0\n",
       "2        60    103     340.0\n",
       "3        45    109     282.4\n",
       "4        45    117     406.0"
      ]
     },
     "execution_count": 12,
     "metadata": {},
     "output_type": "execute_result"
    }
   ],
   "source": [
    "data_dpc = data_dpmc[['Duration', 'Pulse', 'Calories']]\n",
    "data_dpc.head()"
   ]
  },
  {
   "cell_type": "markdown",
   "id": "ae57751f",
   "metadata": {},
   "source": [
    "# 2.8"
   ]
  },
  {
   "cell_type": "code",
   "execution_count": 13,
   "id": "2448fb35",
   "metadata": {},
   "outputs": [
    {
     "data": {
      "text/html": [
       "<div>\n",
       "<style scoped>\n",
       "    .dataframe tbody tr th:only-of-type {\n",
       "        vertical-align: middle;\n",
       "    }\n",
       "\n",
       "    .dataframe tbody tr th {\n",
       "        vertical-align: top;\n",
       "    }\n",
       "\n",
       "    .dataframe thead th {\n",
       "        text-align: right;\n",
       "    }\n",
       "</style>\n",
       "<table border=\"1\" class=\"dataframe\">\n",
       "  <thead>\n",
       "    <tr style=\"text-align: right;\">\n",
       "      <th></th>\n",
       "      <th>Duration</th>\n",
       "      <th>Pulse</th>\n",
       "      <th>Calories</th>\n",
       "    </tr>\n",
       "  </thead>\n",
       "  <tbody>\n",
       "    <tr>\n",
       "      <th>0</th>\n",
       "      <td>60</td>\n",
       "      <td>110</td>\n",
       "      <td>409.1</td>\n",
       "    </tr>\n",
       "    <tr>\n",
       "      <th>1</th>\n",
       "      <td>60</td>\n",
       "      <td>117</td>\n",
       "      <td>479.0</td>\n",
       "    </tr>\n",
       "    <tr>\n",
       "      <th>2</th>\n",
       "      <td>60</td>\n",
       "      <td>103</td>\n",
       "      <td>340.0</td>\n",
       "    </tr>\n",
       "    <tr>\n",
       "      <th>3</th>\n",
       "      <td>45</td>\n",
       "      <td>109</td>\n",
       "      <td>282.4</td>\n",
       "    </tr>\n",
       "    <tr>\n",
       "      <th>4</th>\n",
       "      <td>45</td>\n",
       "      <td>117</td>\n",
       "      <td>406.0</td>\n",
       "    </tr>\n",
       "  </tbody>\n",
       "</table>\n",
       "</div>"
      ],
      "text/plain": [
       "   Duration  Pulse  Calories\n",
       "0        60    110     409.1\n",
       "1        60    117     479.0\n",
       "2        60    103     340.0\n",
       "3        45    109     282.4\n",
       "4        45    117     406.0"
      ]
     },
     "execution_count": 13,
     "metadata": {},
     "output_type": "execute_result"
    }
   ],
   "source": [
    "data_dpmc.drop(columns=['Maxpulse'],inplace=True)\n",
    "data_dpmc.head()"
   ]
  },
  {
   "cell_type": "markdown",
   "id": "db0a1dae",
   "metadata": {},
   "source": [
    "# 2.9"
   ]
  },
  {
   "cell_type": "code",
   "execution_count": 14,
   "id": "bc6c94ef",
   "metadata": {},
   "outputs": [
    {
     "data": {
      "text/plain": [
       "Duration      int64\n",
       "Pulse         int64\n",
       "Calories    float64\n",
       "dtype: object"
      ]
     },
     "execution_count": 14,
     "metadata": {},
     "output_type": "execute_result"
    }
   ],
   "source": [
    "data_dpmc.dtypes"
   ]
  },
  {
   "cell_type": "code",
   "execution_count": 15,
   "id": "22f61932",
   "metadata": {},
   "outputs": [
    {
     "data": {
      "text/plain": [
       "Duration    int64\n",
       "Pulse       int64\n",
       "Calories    int64\n",
       "dtype: object"
      ]
     },
     "execution_count": 15,
     "metadata": {},
     "output_type": "execute_result"
    }
   ],
   "source": [
    "data_dpmc['Calories'] = data_dpmc['Calories'].astype(np.int64)\n",
    "data_dpmc.dtypes"
   ]
  },
  {
   "cell_type": "markdown",
   "id": "f5041255",
   "metadata": {},
   "source": [
    "# 2.10"
   ]
  },
  {
   "cell_type": "code",
   "execution_count": 16,
   "id": "a5553bc7",
   "metadata": {},
   "outputs": [
    {
     "name": "stderr",
     "output_type": "stream",
     "text": [
      "C:\\Users\\kravu\\AppData\\Local\\Programs\\Python\\Python310\\lib\\site-packages\\pandas\\plotting\\_matplotlib\\core.py:1114: UserWarning: No data for colormapping provided via 'c'. Parameters 'cmap' will be ignored\n",
      "  scatter = ax.scatter(\n"
     ]
    },
    {
     "data": {
      "text/plain": [
       "<AxesSubplot: xlabel='Duration', ylabel='Calories'>"
      ]
     },
     "execution_count": 16,
     "metadata": {},
     "output_type": "execute_result"
    },
    {
     "data": {
      "image/png": "[encoded data removed]",
      "text/plain": [
       "<Figure size 640x480 with 1 Axes>"
      ]
     },
     "metadata": {},
     "output_type": "display_data"
    }
   ],
   "source": [
    "data_dpmc.plot.scatter(x='Duration',y='Calories',c='DarkBlue')"
   ]
  },
  {
   "cell_type": "markdown",
   "id": "a419bf80",
   "metadata": {},
   "source": [
    "# 3"
   ]
  },
  {
   "cell_type": "code",
   "execution_count": 17,
   "id": "c1bacfba",
   "metadata": {},
   "outputs": [],
   "source": [
    "import matplotlib.pyplot as plt\n",
    "\n",
    "lang = ['Java', 'Python', 'PHP', 'JavaScript', 'C#', 'C++']\n",
    "pop = [22.2, 17.6, 8.8, 8, 7.7, 6.7]"
   ]
  },
  {
   "cell_type": "code",
   "execution_count": 18,
   "id": "f2438d95",
   "metadata": {},
   "outputs": [
    {
     "data": {
      "image/png": "[encoded data removed]",
      "text/plain": [
       "<Figure size 640x480 with 1 Axes>"
      ]
     },
     "metadata": {},
     "output_type": "display_data"
    }
   ],
   "source": [
    "popup = (0.1, 0, 0, 0, 0, 0) \n",
    "\n",
    "fig1, ax1 = plt.subplots()\n",
    "ax1.pie(pop, explode=popup, labels=lang, autopct='%1.1f%%',\n",
    "        shadow=True, startangle=90)\n",
    "ax1.axis('equal')  # Equal aspect ratio ensures that pie is drawn as a circle.\n",
    "\n",
    "plt.show()"
   ]
  },
  {
   "cell_type": "code",
   "execution_count": null,
   "id": "1ed6e1f5",
   "metadata": {},
   "outputs": [],
   "source": []
  }
 ],
 "metadata": {
  "kernelspec": {
   "display_name": "Python 3 (ipykernel)",
   "language": "python",
   "name": "python3"
  },
  "language_info": {
   "codemirror_mode": {
    "name": "ipython",
    "version": 3
   },
   "file_extension": ".py",
   "mimetype": "text/x-python",
   "name": "python",
   "nbconvert_exporter": "python",
   "pygments_lexer": "ipython3",
   "version": "3.10.7"
  }
 },
 "nbformat": 4,
 "nbformat_minor": 5
}
